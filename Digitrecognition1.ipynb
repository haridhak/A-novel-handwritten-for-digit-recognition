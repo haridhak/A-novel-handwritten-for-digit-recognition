{
  "nbformat": 4,
  "nbformat_minor": 0,
  "metadata": {
    "colab": {
      "provenance": []
    },
    "kernelspec": {
      "name": "python3",
      "display_name": "Python 3"
    },
    "language_info": {
      "name": "python"
    }
  },
  "cells": [
    {
      "cell_type": "code",
      "execution_count": 1,
      "metadata": {
        "id": "WLqJfwM27nIH"
      },
      "outputs": [],
      "source": [
        "import pandas as pd\n",
        "import numpy as np\n",
        "from sklearn.model_selection import train_test_split\n",
        "\n",
        "# Data visualizaiton packages\n",
        "import matplotlib.pyplot as plt\n",
        "%matplotlib inline \n",
        "\n",
        "# Deep learning packages\n",
        "import torch\n",
        "import torch.nn as nn\n",
        "import torch.optim as optim\n",
        "import torch.nn.functional as F\n",
        "import torch.utils.data as data_utils\n",
        "import torchvision.transforms as transforms\n",
        "from torchvision import datasets"
      ]
    },
    {
      "cell_type": "code",
      "source": [
        "df = pd.read_csv('/content/train.csv', dtype=np.float32)\n",
        "labels = df['label'].values\n",
        "img = df.drop(labels='label', axis=1).values / 255 # Normalization\n",
        "\n",
        "# Show the shape of the dataset\n",
        "print(\"Image shape: {}\".format(img.shape))\n",
        "print(\"Labels shape: {}\".format(labels.shape))"
      ],
      "metadata": {
        "colab": {
          "base_uri": "https://localhost:8080/"
        },
        "id": "b0soEnNi7_Vz",
        "outputId": "bdbcad8c-2c2e-4f7c-da79-e9ff506d18a6"
      },
      "execution_count": 2,
      "outputs": [
        {
          "output_type": "stream",
          "name": "stdout",
          "text": [
            "Image shape: (42000, 784)\n",
            "Labels shape: (42000,)\n"
          ]
        }
      ]
    },
    {
      "cell_type": "code",
      "source": [
        "img = img.reshape(-1, 1, 28, 28)"
      ],
      "metadata": {
        "id": "_Yr1HbkF_HGh"
      },
      "execution_count": 3,
      "outputs": []
    },
    {
      "cell_type": "code",
      "source": [
        "img_train, img_val_test, labels_train, labels_val_test = train_test_split(img, \n",
        "                                                                          labels, \n",
        "                                                                          test_size=0.4, \n",
        "                                                                          random_state=42,\n",
        "                                                                          stratify=labels)\n",
        "\n",
        "# Split validation/test set into validation and test set\n",
        "img_val, img_test, labels_val, labels_test = train_test_split(img_val_test, \n",
        "                                                              labels_val_test, \n",
        "                                                              test_size=0.5, \n",
        "                                                              random_state=42,\n",
        "                                                              stratify=labels_val_test)"
      ],
      "metadata": {
        "id": "hgbyk1tF_J4g"
      },
      "execution_count": 4,
      "outputs": []
    },
    {
      "cell_type": "code",
      "source": [
        "batch_size = 100\n",
        "n_iters = 2000\n",
        "num_epochs = n_iters / (len(img_train) / batch_size)\n",
        "num_epochs = int(num_epochs)\n",
        "\n",
        "#---------------------------------------------------------------------------------------------------------------\n",
        "\n",
        "# Convert train set to tensors\n",
        "img_train = torch.from_numpy(img_train)\n",
        "labels_train = torch.from_numpy(labels_train).type(torch.LongTensor)\n",
        "\n",
        "# Convert validation set to tensors\n",
        "img_val = torch.from_numpy(img_val)\n",
        "labels_val = torch.from_numpy(labels_val).type(torch.LongTensor)\n",
        "\n",
        "# Convert test set to tensors\n",
        "img_test = torch.from_numpy(img_test)\n",
        "labels_test = torch.from_numpy(labels_test).type(torch.LongTensor)\n",
        "\n",
        "#---------------------------------------------------------------------------------------------------------------\n",
        "\n",
        "# Define Pytorch train and validation set\n",
        "train = data_utils.TensorDataset(img_train, labels_train)\n",
        "val = data_utils.TensorDataset(img_val, labels_val)\n",
        "test = data_utils.TensorDataset(img_test, labels_test)\n",
        "\n",
        "#---------------------------------------------------------------------------------------------------------------\n",
        "\n",
        "# Define data loader\n",
        "train_loader = data_utils.DataLoader(train, \n",
        "                                     batch_size=batch_size, \n",
        "                                     shuffle=True, num_workers=16)\n",
        "valid_loader = data_utils.DataLoader(val, \n",
        "                                     batch_size=batch_size, \n",
        "                                     shuffle=True, num_workers=16)\n",
        "test_loader = data_utils.DataLoader(test, \n",
        "                                    batch_size=batch_size, \n",
        "                                    shuffle=True, num_workers=16)\n",
        "\n",
        "loaders = {'train': train_loader,\n",
        "           'valid': valid_loader,\n",
        "           'test': test_loader}"
      ],
      "metadata": {
        "colab": {
          "base_uri": "https://localhost:8080/"
        },
        "id": "r9aS1OaF_N8I",
        "outputId": "99524b57-1767-4672-8a88-26198f64f48d"
      },
      "execution_count": 5,
      "outputs": [
        {
          "output_type": "stream",
          "name": "stderr",
          "text": [
            "/usr/local/lib/python3.7/dist-packages/torch/utils/data/dataloader.py:566: UserWarning: This DataLoader will create 16 worker processes in total. Our suggested max number of worker in current system is 2, which is smaller than what this DataLoader is going to create. Please be aware that excessive worker creation might get DataLoader running slow or even freeze, lower the worker number to avoid potential slowness/freeze if necessary.\n",
            "  cpuset_checked))\n"
          ]
        }
      ]
    },
    {
      "cell_type": "code",
      "source": [
        "num_classes = 10\n",
        "\n",
        "# check if CUDA is available\n",
        "use_cuda = torch.cuda.is_available()\n",
        "\n",
        "# Define the CNN architecture\n",
        "class Net(nn.Module):\n",
        "    def __init__(self):\n",
        "        super(Net, self).__init__()\n",
        "        ## Define layers of a CNN\n",
        "        self.conv1 = nn.Conv2d(in_channels=1, out_channels=32, kernel_size=5, padding=1)\n",
        "        self.conv2 = nn.Conv2d(in_channels=32, out_channels=32, kernel_size=5, padding=1)\n",
        "        self.conv3 = nn.Conv2d(in_channels=32, out_channels=64, kernel_size=3, padding=1)\n",
        "        self.conv4 = nn.Conv2d(in_channels=64, out_channels=64, kernel_size=3, padding=1)\n",
        "        self.pool1 = nn.MaxPool2d(kernel_size=2, stride=1)\n",
        "        self.pool2 = nn.MaxPool2d(kernel_size=2, stride=2) \n",
        "        self.fc1 = nn.Linear(64 * 11 * 11, 2048)\n",
        "        self.fc2 = nn.Linear(2048, num_classes) \n",
        "        self.dropout = nn.Dropout(0.5)\n",
        "    \n",
        "    def forward(self, x):\n",
        "        ## Define forward behavior\n",
        "        x = self.conv1(x)\n",
        "        x = self.pool1(F.relu(self.conv2(x)))\n",
        "        x = self.dropout(x)\n",
        "        x = self.conv3(x)\n",
        "        x = self.pool2(F.relu(self.conv4(x)))\n",
        "        x = self.dropout(x)\n",
        "        #print(x.shape)\n",
        "        x = x.view(-1, 64 * 11 * 11)\n",
        "        x = self.dropout(x)\n",
        "        x = F.relu(self.fc1(x))\n",
        "        x = self.dropout(x)\n",
        "        x = self.fc2(x)\n",
        "        return x\n",
        "\n",
        "# instantiate the CNN\n",
        "model = Net()\n",
        "\n",
        "# move tensors to GPU if CUDA is available\n",
        "if use_cuda:\n",
        "    model.cuda()\n",
        "\n",
        "print(model)"
      ],
      "metadata": {
        "colab": {
          "base_uri": "https://localhost:8080/"
        },
        "id": "oMlZtE50_R5o",
        "outputId": "700af14f-1ebd-4fc3-c6ad-725850d5aac8"
      },
      "execution_count": 6,
      "outputs": [
        {
          "output_type": "stream",
          "name": "stdout",
          "text": [
            "Net(\n",
            "  (conv1): Conv2d(1, 32, kernel_size=(5, 5), stride=(1, 1), padding=(1, 1))\n",
            "  (conv2): Conv2d(32, 32, kernel_size=(5, 5), stride=(1, 1), padding=(1, 1))\n",
            "  (conv3): Conv2d(32, 64, kernel_size=(3, 3), stride=(1, 1), padding=(1, 1))\n",
            "  (conv4): Conv2d(64, 64, kernel_size=(3, 3), stride=(1, 1), padding=(1, 1))\n",
            "  (pool1): MaxPool2d(kernel_size=2, stride=1, padding=0, dilation=1, ceil_mode=False)\n",
            "  (pool2): MaxPool2d(kernel_size=2, stride=2, padding=0, dilation=1, ceil_mode=False)\n",
            "  (fc1): Linear(in_features=7744, out_features=2048, bias=True)\n",
            "  (fc2): Linear(in_features=2048, out_features=10, bias=True)\n",
            "  (dropout): Dropout(p=0.5, inplace=False)\n",
            ")\n"
          ]
        }
      ]
    },
    {
      "cell_type": "code",
      "source": [
        "criterion = nn.CrossEntropyLoss()\n",
        "\n",
        "### Define optimizer\n",
        "optimizer = optim.RMSprop(model.parameters(), \n",
        "                                  lr=0.001, \n",
        "                                  alpha=0.9, \n",
        "                                  eps=1e-08, \n",
        "                                  weight_decay=0.0001)"
      ],
      "metadata": {
        "id": "z95zaGx9_VN3"
      },
      "execution_count": 7,
      "outputs": []
    },
    {
      "cell_type": "code",
      "source": [
        "from PIL import ImageFile\n",
        "ImageFile.LOAD_TRUNCATED_IMAGES = True\n",
        "\n",
        "def train(n_epochs, loaders, model, optimizer, criterion, use_cuda, save_path):\n",
        "    \"\"\"returns trained model\"\"\"\n",
        "    # initialize tracker for minimum validation loss\n",
        "    valid_loss_min = np.Inf\n",
        "    loss_list = []\n",
        "    epoch_list = []\n",
        "    \n",
        "    for epoch in range(1, n_epochs+1):\n",
        "        # initialize variables to monitor training and validation loss\n",
        "        train_loss = 0.0\n",
        "        valid_loss = 0.0\n",
        "        \n",
        "        ###################\n",
        "        # train the model #\n",
        "        ###################\n",
        "        model.train()\n",
        "        for batch_idx, (data, target) in enumerate(loaders['train']):\n",
        "            # move to GPU\n",
        "            if use_cuda:\n",
        "                data, target = data.cuda(), target.cuda()\n",
        "            ## find the loss and update the model parameters accordingly\n",
        "            optimizer.zero_grad()\n",
        "            output = model(data)\n",
        "            loss = criterion(output, target)\n",
        "            loss.backward()\n",
        "            optimizer.step()\n",
        "            train_loss = train_loss + ((1 / (batch_idx + 1)) * (loss.data - train_loss))\n",
        "            \n",
        "        ######################    \n",
        "        # validate the model #\n",
        "        ######################\n",
        "        model.eval()\n",
        "        for batch_idx, (data, target) in enumerate(loaders['valid']):\n",
        "            # move to GPU\n",
        "            if use_cuda:\n",
        "                data, target = data.cuda(), target.cuda()\n",
        "            ## update the average validation loss\n",
        "            output = model(data)\n",
        "            loss = criterion(output, target)\n",
        "            valid_loss = valid_loss + ((1 / (batch_idx + 1)) * (loss.data - valid_loss))\n",
        "\n",
        "            \n",
        "        # print training/validation statistics \n",
        "        print('Epoch: {} \\tTraining Loss: {:.6f} \\tValidation Loss: {:.6f}'.format(\n",
        "            epoch, \n",
        "            train_loss,\n",
        "            valid_loss\n",
        "            ))\n",
        "        \n",
        "        ## Save the model if validation loss has decreased\n",
        "        if valid_loss < valid_loss_min:\n",
        "            print('Validation loss decreased ({:.6f} --> {:.6f}).  Saving model ...'.format(valid_loss_min, valid_loss))\n",
        "            torch.save(model.state_dict(), save_path)\n",
        "            valid_loss_min = valid_loss\n",
        "            \n",
        "    # return trained model\n",
        "    return model"
      ],
      "metadata": {
        "id": "bZQLCQtj_hcP"
      },
      "execution_count": 8,
      "outputs": []
    },
    {
      "cell_type": "code",
      "source": [
        "model = train(3, loaders, model, optimizer, \n",
        "              criterion, use_cuda, 'cnn_digit_recognizer.pt')"
      ],
      "metadata": {
        "colab": {
          "base_uri": "https://localhost:8080/"
        },
        "id": "r6UYUO_x_nwH",
        "outputId": "34fd6dae-f2e0-40d2-86ac-47aef2870bc0"
      },
      "execution_count": 9,
      "outputs": [
        {
          "output_type": "stream",
          "name": "stdout",
          "text": [
            "Epoch: 1 \tTraining Loss: 0.392981 \tValidation Loss: 0.081456\n",
            "Validation loss decreased (inf --> 0.081456).  Saving model ...\n",
            "Epoch: 2 \tTraining Loss: 0.138027 \tValidation Loss: 0.083000\n",
            "Epoch: 3 \tTraining Loss: 0.128637 \tValidation Loss: 0.069154\n",
            "Validation loss decreased (0.081456 --> 0.069154).  Saving model ...\n"
          ]
        }
      ]
    },
    {
      "cell_type": "code",
      "source": [
        "def test(loaders, model, criterion, use_cuda):\n",
        "\n",
        "    # monitor test loss and accuracy\n",
        "    test_loss = 0.\n",
        "    correct = 0.\n",
        "    total = 0.\n",
        "\n",
        "    model.eval()\n",
        "    for batch_idx, (data, target) in enumerate(loaders['test']):\n",
        "        # move to GPU\n",
        "        if use_cuda:\n",
        "            data, target = data.cuda(), target.cuda()\n",
        "        # forward pass: compute predicted outputs by passing inputs to the model\n",
        "        output = model(data)\n",
        "        # calculate the loss\n",
        "        loss = criterion(output, target)\n",
        "        # update average test loss \n",
        "        test_loss = test_loss + ((1 / (batch_idx + 1)) * (loss.data - test_loss))\n",
        "        # convert output probabilities to predicted class\n",
        "        pred = output.data.max(1, keepdim=True)[1]\n",
        "        # compare predictions to true label\n",
        "        correct += np.sum(np.squeeze(pred.eq(target.data.view_as(pred))).cpu().numpy())\n",
        "        total += data.size(0)\n",
        "            \n",
        "    print('Test Loss: {:.6f}\\n'.format(test_loss))\n",
        "\n",
        "    print('\\nTest Accuracy: %2d%% (%2d/%2d)' % (\n",
        "        100. * correct / total, correct, total))\n",
        "\n",
        "# call test function    \n",
        "test(loaders, model, criterion, use_cuda)"
      ],
      "metadata": {
        "colab": {
          "base_uri": "https://localhost:8080/"
        },
        "id": "rfO9N2Hs_yFP",
        "outputId": "5fd10d31-61f9-4921-b130-fbf5d45f22d2"
      },
      "execution_count": 10,
      "outputs": [
        {
          "output_type": "stream",
          "name": "stdout",
          "text": [
            "Test Loss: 0.061174\n",
            "\n",
            "\n",
            "Test Accuracy: 98% (8254/8400)\n"
          ]
        }
      ]
    },
    {
      "cell_type": "code",
      "source": [
        "def imshow(img):\n",
        "    img = img.numpy() * 255  # unnormalize and convert from Tensor image\n",
        "    plt.imshow(img[0])  # show imag"
      ],
      "metadata": {
        "id": "4w2fSpAg_1o3"
      },
      "execution_count": 11,
      "outputs": []
    },
    {
      "cell_type": "code",
      "source": [
        "classes = ['0', '1', '2', '3', '4',\n",
        "           '5', '6', '7', '8', '9']\n",
        "\n",
        "# obtain one batch of test images\n",
        "dataiter = iter(test_loader)\n",
        "images, labels = dataiter.next()\n",
        "images.numpy()\n",
        "\n",
        "# move model inputs to cuda, if GPU available\n",
        "if use_cuda:\n",
        "    images = images.cuda()\n",
        "\n",
        "# get sample outputs\n",
        "output = model(images)\n",
        "# convert output probabilities to predicted class\n",
        "_, preds_tensor = torch.max(output, 1)\n",
        "preds = np.squeeze(preds_tensor.numpy()) if not use_cuda else np.squeeze(preds_tensor.cpu().numpy())\n",
        "\n",
        "# plot the images in the batch, along with predicted and true labels\n",
        "fig = plt.figure(figsize=(20, 5))\n",
        "for idx in np.arange(10):\n",
        "    ax = fig.add_subplot(2, 10/2, idx+1, xticks=[], yticks=[])\n",
        "    imshow(images.cpu()[idx])\n",
        "    ax.set_title(\"Predicted: {} - Actual: {}\".format(classes[preds[idx]], classes[labels[idx]]),\n",
        "                 color=(\"green\" if preds[idx]==labels[idx].item() else \"pink\"))"
      ],
      "metadata": {
        "colab": {
          "base_uri": "https://localhost:8080/",
          "height": 285
        },
        "id": "q3s-Osq1_6Qv",
        "outputId": "fba67c49-51cc-40c7-ff67-79e3455ab346"
      },
      "execution_count": 12,
      "outputs": [
        {
          "output_type": "display_data",
          "data": {
            "text/plain": [
              "<Figure size 1440x360 with 10 Axes>"
            ],
            "image/png": "[encoded data removed]"
          },
          "metadata": {}
        }
      ]
    }
  ]
}